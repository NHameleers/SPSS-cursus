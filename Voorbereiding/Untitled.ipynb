{
 "cells": [
  {
   "cell_type": "code",
   "execution_count": 314,
   "metadata": {},
   "outputs": [],
   "source": [
    "import pandas as pd\n",
    "import random\n",
    "import datetime as dt\n",
    "\n",
    "import matplotlib.pyplot as plt\n",
    "%matplotlib inline\n",
    "\n",
    "random.seed(1)"
   ]
  },
  {
   "cell_type": "markdown",
   "metadata": {},
   "source": [
    "# Simulate some data"
   ]
  },
  {
   "cell_type": "code",
   "execution_count": 315,
   "metadata": {},
   "outputs": [],
   "source": [
    "df = pd.DataFrame(columns=['respondentnummer',\n",
    "'geslacht',\n",
    "'chronisch_ziek',\n",
    "'gebdatum',\n",
    "'zorgverlener',\n",
    "'rapportcijfer',\n",
    "'opleidingsniveau'])"
   ]
  },
  {
   "cell_type": "code",
   "execution_count": 316,
   "metadata": {},
   "outputs": [
    {
     "name": "stderr",
     "output_type": "stream",
     "text": [
      "C:\\Users\\niels.hameleers\\AppData\\Local\\Continuum\\anaconda3\\lib\\site-packages\\ipykernel_launcher.py:3: SettingWithCopyWarning: \n",
      "A value is trying to be set on a copy of a slice from a DataFrame\n",
      "\n",
      "See the caveats in the documentation: http://pandas.pydata.org/pandas-docs/stable/indexing.html#indexing-view-versus-copy\n",
      "  This is separate from the ipykernel package so we can avoid doing imports until\n",
      "C:\\Users\\niels.hameleers\\AppData\\Local\\Continuum\\anaconda3\\lib\\site-packages\\ipykernel_launcher.py:4: SettingWithCopyWarning: \n",
      "A value is trying to be set on a copy of a slice from a DataFrame\n",
      "\n",
      "See the caveats in the documentation: http://pandas.pydata.org/pandas-docs/stable/indexing.html#indexing-view-versus-copy\n",
      "  after removing the cwd from sys.path.\n",
      "C:\\Users\\niels.hameleers\\AppData\\Local\\Continuum\\anaconda3\\lib\\site-packages\\ipykernel_launcher.py:8: SettingWithCopyWarning: \n",
      "A value is trying to be set on a copy of a slice from a DataFrame\n",
      "\n",
      "See the caveats in the documentation: http://pandas.pydata.org/pandas-docs/stable/indexing.html#indexing-view-versus-copy\n",
      "  \n",
      "C:\\Users\\niels.hameleers\\AppData\\Local\\Continuum\\anaconda3\\lib\\site-packages\\ipykernel_launcher.py:21: SettingWithCopyWarning: \n",
      "A value is trying to be set on a copy of a slice from a DataFrame\n",
      "\n",
      "See the caveats in the documentation: http://pandas.pydata.org/pandas-docs/stable/indexing.html#indexing-view-versus-copy\n",
      "C:\\Users\\niels.hameleers\\AppData\\Local\\Continuum\\anaconda3\\lib\\site-packages\\ipykernel_launcher.py:23: SettingWithCopyWarning: \n",
      "A value is trying to be set on a copy of a slice from a DataFrame\n",
      "\n",
      "See the caveats in the documentation: http://pandas.pydata.org/pandas-docs/stable/indexing.html#indexing-view-versus-copy\n",
      "C:\\Users\\niels.hameleers\\AppData\\Local\\Continuum\\anaconda3\\lib\\site-packages\\ipykernel_launcher.py:24: SettingWithCopyWarning: \n",
      "A value is trying to be set on a copy of a slice from a DataFrame\n",
      "\n",
      "See the caveats in the documentation: http://pandas.pydata.org/pandas-docs/stable/indexing.html#indexing-view-versus-copy\n",
      "C:\\Users\\niels.hameleers\\AppData\\Local\\Continuum\\anaconda3\\lib\\site-packages\\ipykernel_launcher.py:30: SettingWithCopyWarning: \n",
      "A value is trying to be set on a copy of a slice from a DataFrame\n",
      "\n",
      "See the caveats in the documentation: http://pandas.pydata.org/pandas-docs/stable/indexing.html#indexing-view-versus-copy\n",
      "C:\\Users\\niels.hameleers\\AppData\\Local\\Continuum\\anaconda3\\lib\\site-packages\\ipykernel_launcher.py:31: SettingWithCopyWarning: \n",
      "A value is trying to be set on a copy of a slice from a DataFrame\n",
      "\n",
      "See the caveats in the documentation: http://pandas.pydata.org/pandas-docs/stable/indexing.html#indexing-view-versus-copy\n",
      "C:\\Users\\niels.hameleers\\AppData\\Local\\Continuum\\anaconda3\\lib\\site-packages\\ipykernel_launcher.py:33: SettingWithCopyWarning: \n",
      "A value is trying to be set on a copy of a slice from a DataFrame\n",
      "\n",
      "See the caveats in the documentation: http://pandas.pydata.org/pandas-docs/stable/indexing.html#indexing-view-versus-copy\n",
      "C:\\Users\\niels.hameleers\\AppData\\Local\\Continuum\\anaconda3\\lib\\site-packages\\ipykernel_launcher.py:34: SettingWithCopyWarning: \n",
      "A value is trying to be set on a copy of a slice from a DataFrame\n",
      "\n",
      "See the caveats in the documentation: http://pandas.pydata.org/pandas-docs/stable/indexing.html#indexing-view-versus-copy\n",
      "C:\\Users\\niels.hameleers\\AppData\\Local\\Continuum\\anaconda3\\lib\\site-packages\\ipykernel_launcher.py:35: SettingWithCopyWarning: \n",
      "A value is trying to be set on a copy of a slice from a DataFrame\n",
      "\n",
      "See the caveats in the documentation: http://pandas.pydata.org/pandas-docs/stable/indexing.html#indexing-view-versus-copy\n",
      "C:\\Users\\niels.hameleers\\AppData\\Local\\Continuum\\anaconda3\\lib\\site-packages\\pandas\\core\\indexing.py:179: SettingWithCopyWarning: \n",
      "A value is trying to be set on a copy of a slice from a DataFrame\n",
      "\n",
      "See the caveats in the documentation: http://pandas.pydata.org/pandas-docs/stable/indexing.html#indexing-view-versus-copy\n",
      "  self._setitem_with_indexer(indexer, value)\n",
      "C:\\Users\\niels.hameleers\\AppData\\Local\\Continuum\\anaconda3\\lib\\site-packages\\ipykernel_launcher.py:39: SettingWithCopyWarning: \n",
      "A value is trying to be set on a copy of a slice from a DataFrame\n",
      "\n",
      "See the caveats in the documentation: http://pandas.pydata.org/pandas-docs/stable/indexing.html#indexing-view-versus-copy\n",
      "C:\\Users\\niels.hameleers\\AppData\\Local\\Continuum\\anaconda3\\lib\\site-packages\\ipykernel_launcher.py:52: SettingWithCopyWarning: \n",
      "A value is trying to be set on a copy of a slice from a DataFrame\n",
      "\n",
      "See the caveats in the documentation: http://pandas.pydata.org/pandas-docs/stable/indexing.html#indexing-view-versus-copy\n"
     ]
    }
   ],
   "source": [
    "df.respondentnummer = range(1, 501)\n",
    "df.geslacht = random.choices([0, 1, 11, -99], weights=[55, 45, 1, 2], k=500)\n",
    "df.geslacht[6] = -99\n",
    "df.geslacht[9] = 11\n",
    "\n",
    "\n",
    "df.chronisch_ziek = random.choices([0, 1, 10, 11, -99], weights=[39, 58, 2, 1, 2], k=500)\n",
    "df.chronisch_ziek[8] = -99\n",
    "\n",
    "\n",
    "df.zorgverlener = random.choices([\"huisarts\", \"Huisarts\",\"HUisarts\", \n",
    "                                  \"specialist\", \"specialist azm\", \"Specialist\", \"SPECIALISTE\",\n",
    "                                  \"poh\", \"praktijkondersteuner\", \"poh GGZ\", \n",
    "                                  \"Fysiotherapeut\", \"Fysio\", \"fysiotherapeut\"],\n",
    "              weights=[30, 20, 1,\n",
    "                       15, 1, 10, 1,\n",
    "                       10, 12, 1,\n",
    "                       5, 2, 3],\n",
    "              k=500)\n",
    "# zorg dat op regel 10 'praktijkondersteuner' staat\n",
    "df.zorgverlener[9] = 'praktijkondersteuner'\n",
    "# en zorg dat de verschillende manieren van spelling zichtbaar zijn in de eerste regels.\n",
    "df.zorgverlener[1] = 'Huisarts'\n",
    "df.zorgverlener[4] = 'Specialist'\n",
    "\n",
    "\n",
    "df.rapportcijfer = random.choices(range(11), weights=[1, 2, 2, 2, 4, 10, 35, 43, 47, 40, 10], k=500)\n",
    "df.rapportcijfer = df.rapportcijfer.astype('float64')\n",
    "# twee outliers\n",
    "df.rapportcijfer[40] = 80\n",
    "df.rapportcijfer[300] = 75\n",
    "# twee perfectionisten\n",
    "df.rapportcijfer[5] = 7.45\n",
    "df.rapportcijfer[9] = 5.5\n",
    "df.rapportcijfer[range(350, 500, 4)] = -99\n",
    "\n",
    "\n",
    "df.opleidingsniveau = random.choices([1, 2, 3, 4, -99], weights=[20, 20, 30, 2, 5], k=500)\n",
    "df.opleidingsniveau[4] = 13\n",
    "\n",
    "# https://www.daveoncode.com/2013/05/20/generate-random-dates-in-python-using-datetime-and-random-modules/\n",
    "def random_birthdate(startdate=dt.date(1940, 1, 1), enddate=dt.date(2000, 1, 1)):\n",
    "    nbdays=(enddate-startdate).days\n",
    "    d=random.randint(0, nbdays)\n",
    "    return startdate+dt.timedelta(days=d)\n",
    "\n",
    "birthdates = []\n",
    "for i in range(500):\n",
    "    birthdates.append(random_birthdate())\n",
    "    \n",
    "df.gebdatum = birthdates\n",
    "df.gebdatum[range(10, 40, 3)] = dt.date(1800, 1, 1)"
   ]
  },
  {
   "cell_type": "markdown",
   "metadata": {},
   "source": [
    "# Check the result"
   ]
  },
  {
   "cell_type": "code",
   "execution_count": 317,
   "metadata": {},
   "outputs": [
    {
     "data": {
      "text/html": [
       "<div>\n",
       "<style>\n",
       "    .dataframe thead tr:only-child th {\n",
       "        text-align: right;\n",
       "    }\n",
       "\n",
       "    .dataframe thead th {\n",
       "        text-align: left;\n",
       "    }\n",
       "\n",
       "    .dataframe tbody tr th {\n",
       "        vertical-align: top;\n",
       "    }\n",
       "</style>\n",
       "<table border=\"1\" class=\"dataframe\">\n",
       "  <thead>\n",
       "    <tr style=\"text-align: right;\">\n",
       "      <th></th>\n",
       "      <th>respondentnummer</th>\n",
       "      <th>geslacht</th>\n",
       "      <th>chronisch_ziek</th>\n",
       "      <th>gebdatum</th>\n",
       "      <th>zorgverlener</th>\n",
       "      <th>rapportcijfer</th>\n",
       "      <th>opleidingsniveau</th>\n",
       "    </tr>\n",
       "  </thead>\n",
       "  <tbody>\n",
       "    <tr>\n",
       "      <th>0</th>\n",
       "      <td>1</td>\n",
       "      <td>0</td>\n",
       "      <td>1</td>\n",
       "      <td>1946-04-27</td>\n",
       "      <td>Huisarts</td>\n",
       "      <td>9.00</td>\n",
       "      <td>2</td>\n",
       "    </tr>\n",
       "    <tr>\n",
       "      <th>1</th>\n",
       "      <td>2</td>\n",
       "      <td>1</td>\n",
       "      <td>0</td>\n",
       "      <td>1960-09-18</td>\n",
       "      <td>Huisarts</td>\n",
       "      <td>10.00</td>\n",
       "      <td>4</td>\n",
       "    </tr>\n",
       "    <tr>\n",
       "      <th>2</th>\n",
       "      <td>3</td>\n",
       "      <td>1</td>\n",
       "      <td>1</td>\n",
       "      <td>1950-10-01</td>\n",
       "      <td>huisarts</td>\n",
       "      <td>9.00</td>\n",
       "      <td>3</td>\n",
       "    </tr>\n",
       "    <tr>\n",
       "      <th>3</th>\n",
       "      <td>4</td>\n",
       "      <td>0</td>\n",
       "      <td>0</td>\n",
       "      <td>1986-12-21</td>\n",
       "      <td>specialist</td>\n",
       "      <td>5.00</td>\n",
       "      <td>1</td>\n",
       "    </tr>\n",
       "    <tr>\n",
       "      <th>4</th>\n",
       "      <td>5</td>\n",
       "      <td>0</td>\n",
       "      <td>1</td>\n",
       "      <td>1981-08-03</td>\n",
       "      <td>Specialist</td>\n",
       "      <td>7.00</td>\n",
       "      <td>13</td>\n",
       "    </tr>\n",
       "    <tr>\n",
       "      <th>5</th>\n",
       "      <td>6</td>\n",
       "      <td>0</td>\n",
       "      <td>1</td>\n",
       "      <td>1989-11-22</td>\n",
       "      <td>Fysio</td>\n",
       "      <td>7.45</td>\n",
       "      <td>1</td>\n",
       "    </tr>\n",
       "    <tr>\n",
       "      <th>6</th>\n",
       "      <td>7</td>\n",
       "      <td>-99</td>\n",
       "      <td>0</td>\n",
       "      <td>1981-02-14</td>\n",
       "      <td>specialist</td>\n",
       "      <td>9.00</td>\n",
       "      <td>3</td>\n",
       "    </tr>\n",
       "    <tr>\n",
       "      <th>7</th>\n",
       "      <td>8</td>\n",
       "      <td>1</td>\n",
       "      <td>1</td>\n",
       "      <td>1940-11-16</td>\n",
       "      <td>Specialist</td>\n",
       "      <td>6.00</td>\n",
       "      <td>3</td>\n",
       "    </tr>\n",
       "    <tr>\n",
       "      <th>8</th>\n",
       "      <td>9</td>\n",
       "      <td>0</td>\n",
       "      <td>-99</td>\n",
       "      <td>1993-11-30</td>\n",
       "      <td>huisarts</td>\n",
       "      <td>7.00</td>\n",
       "      <td>3</td>\n",
       "    </tr>\n",
       "    <tr>\n",
       "      <th>9</th>\n",
       "      <td>10</td>\n",
       "      <td>11</td>\n",
       "      <td>1</td>\n",
       "      <td>1955-01-14</td>\n",
       "      <td>praktijkondersteuner</td>\n",
       "      <td>5.50</td>\n",
       "      <td>1</td>\n",
       "    </tr>\n",
       "    <tr>\n",
       "      <th>10</th>\n",
       "      <td>11</td>\n",
       "      <td>1</td>\n",
       "      <td>1</td>\n",
       "      <td>1800-01-01</td>\n",
       "      <td>Huisarts</td>\n",
       "      <td>9.00</td>\n",
       "      <td>4</td>\n",
       "    </tr>\n",
       "    <tr>\n",
       "      <th>11</th>\n",
       "      <td>12</td>\n",
       "      <td>0</td>\n",
       "      <td>1</td>\n",
       "      <td>1978-10-26</td>\n",
       "      <td>SPECIALISTE</td>\n",
       "      <td>3.00</td>\n",
       "      <td>1</td>\n",
       "    </tr>\n",
       "  </tbody>\n",
       "</table>\n",
       "</div>"
      ],
      "text/plain": [
       "    respondentnummer  geslacht  chronisch_ziek    gebdatum  \\\n",
       "0                  1         0               1  1946-04-27   \n",
       "1                  2         1               0  1960-09-18   \n",
       "2                  3         1               1  1950-10-01   \n",
       "3                  4         0               0  1986-12-21   \n",
       "4                  5         0               1  1981-08-03   \n",
       "5                  6         0               1  1989-11-22   \n",
       "6                  7       -99               0  1981-02-14   \n",
       "7                  8         1               1  1940-11-16   \n",
       "8                  9         0             -99  1993-11-30   \n",
       "9                 10        11               1  1955-01-14   \n",
       "10                11         1               1  1800-01-01   \n",
       "11                12         0               1  1978-10-26   \n",
       "\n",
       "            zorgverlener  rapportcijfer  opleidingsniveau  \n",
       "0               Huisarts           9.00                 2  \n",
       "1               Huisarts          10.00                 4  \n",
       "2               huisarts           9.00                 3  \n",
       "3             specialist           5.00                 1  \n",
       "4             Specialist           7.00                13  \n",
       "5                  Fysio           7.45                 1  \n",
       "6             specialist           9.00                 3  \n",
       "7             Specialist           6.00                 3  \n",
       "8               huisarts           7.00                 3  \n",
       "9   praktijkondersteuner           5.50                 1  \n",
       "10              Huisarts           9.00                 4  \n",
       "11           SPECIALISTE           3.00                 1  "
      ]
     },
     "execution_count": 317,
     "metadata": {},
     "output_type": "execute_result"
    }
   ],
   "source": [
    "df.head(12)"
   ]
  },
  {
   "cell_type": "code",
   "execution_count": 318,
   "metadata": {},
   "outputs": [
    {
     "data": {
      "text/html": [
       "<div>\n",
       "<style>\n",
       "    .dataframe thead tr:only-child th {\n",
       "        text-align: right;\n",
       "    }\n",
       "\n",
       "    .dataframe thead th {\n",
       "        text-align: left;\n",
       "    }\n",
       "\n",
       "    .dataframe tbody tr th {\n",
       "        vertical-align: top;\n",
       "    }\n",
       "</style>\n",
       "<table border=\"1\" class=\"dataframe\">\n",
       "  <thead>\n",
       "    <tr style=\"text-align: right;\">\n",
       "      <th></th>\n",
       "      <th>respondentnummer</th>\n",
       "      <th>geslacht</th>\n",
       "      <th>chronisch_ziek</th>\n",
       "      <th>gebdatum</th>\n",
       "      <th>zorgverlener</th>\n",
       "      <th>rapportcijfer</th>\n",
       "      <th>opleidingsniveau</th>\n",
       "    </tr>\n",
       "  </thead>\n",
       "  <tbody>\n",
       "    <tr>\n",
       "      <th>490</th>\n",
       "      <td>491</td>\n",
       "      <td>0</td>\n",
       "      <td>1</td>\n",
       "      <td>1976-06-09</td>\n",
       "      <td>huisarts</td>\n",
       "      <td>-99.0</td>\n",
       "      <td>1</td>\n",
       "    </tr>\n",
       "    <tr>\n",
       "      <th>491</th>\n",
       "      <td>492</td>\n",
       "      <td>1</td>\n",
       "      <td>10</td>\n",
       "      <td>1951-01-22</td>\n",
       "      <td>huisarts</td>\n",
       "      <td>7.0</td>\n",
       "      <td>3</td>\n",
       "    </tr>\n",
       "    <tr>\n",
       "      <th>492</th>\n",
       "      <td>493</td>\n",
       "      <td>1</td>\n",
       "      <td>0</td>\n",
       "      <td>1990-09-23</td>\n",
       "      <td>Huisarts</td>\n",
       "      <td>7.0</td>\n",
       "      <td>3</td>\n",
       "    </tr>\n",
       "    <tr>\n",
       "      <th>493</th>\n",
       "      <td>494</td>\n",
       "      <td>1</td>\n",
       "      <td>1</td>\n",
       "      <td>1941-07-27</td>\n",
       "      <td>poh</td>\n",
       "      <td>6.0</td>\n",
       "      <td>2</td>\n",
       "    </tr>\n",
       "    <tr>\n",
       "      <th>494</th>\n",
       "      <td>495</td>\n",
       "      <td>1</td>\n",
       "      <td>1</td>\n",
       "      <td>1941-01-12</td>\n",
       "      <td>huisarts</td>\n",
       "      <td>-99.0</td>\n",
       "      <td>1</td>\n",
       "    </tr>\n",
       "    <tr>\n",
       "      <th>495</th>\n",
       "      <td>496</td>\n",
       "      <td>11</td>\n",
       "      <td>1</td>\n",
       "      <td>1989-12-22</td>\n",
       "      <td>huisarts</td>\n",
       "      <td>9.0</td>\n",
       "      <td>3</td>\n",
       "    </tr>\n",
       "    <tr>\n",
       "      <th>496</th>\n",
       "      <td>497</td>\n",
       "      <td>0</td>\n",
       "      <td>1</td>\n",
       "      <td>1993-06-09</td>\n",
       "      <td>Huisarts</td>\n",
       "      <td>4.0</td>\n",
       "      <td>2</td>\n",
       "    </tr>\n",
       "    <tr>\n",
       "      <th>497</th>\n",
       "      <td>498</td>\n",
       "      <td>0</td>\n",
       "      <td>0</td>\n",
       "      <td>1976-08-23</td>\n",
       "      <td>specialist</td>\n",
       "      <td>6.0</td>\n",
       "      <td>3</td>\n",
       "    </tr>\n",
       "    <tr>\n",
       "      <th>498</th>\n",
       "      <td>499</td>\n",
       "      <td>1</td>\n",
       "      <td>0</td>\n",
       "      <td>1971-03-30</td>\n",
       "      <td>poh</td>\n",
       "      <td>-99.0</td>\n",
       "      <td>2</td>\n",
       "    </tr>\n",
       "    <tr>\n",
       "      <th>499</th>\n",
       "      <td>500</td>\n",
       "      <td>0</td>\n",
       "      <td>1</td>\n",
       "      <td>1955-10-02</td>\n",
       "      <td>Huisarts</td>\n",
       "      <td>7.0</td>\n",
       "      <td>1</td>\n",
       "    </tr>\n",
       "  </tbody>\n",
       "</table>\n",
       "</div>"
      ],
      "text/plain": [
       "     respondentnummer  geslacht  chronisch_ziek    gebdatum zorgverlener  \\\n",
       "490               491         0               1  1976-06-09     huisarts   \n",
       "491               492         1              10  1951-01-22     huisarts   \n",
       "492               493         1               0  1990-09-23     Huisarts   \n",
       "493               494         1               1  1941-07-27          poh   \n",
       "494               495         1               1  1941-01-12     huisarts   \n",
       "495               496        11               1  1989-12-22     huisarts   \n",
       "496               497         0               1  1993-06-09     Huisarts   \n",
       "497               498         0               0  1976-08-23   specialist   \n",
       "498               499         1               0  1971-03-30          poh   \n",
       "499               500         0               1  1955-10-02     Huisarts   \n",
       "\n",
       "     rapportcijfer  opleidingsniveau  \n",
       "490          -99.0                 1  \n",
       "491            7.0                 3  \n",
       "492            7.0                 3  \n",
       "493            6.0                 2  \n",
       "494          -99.0                 1  \n",
       "495            9.0                 3  \n",
       "496            4.0                 2  \n",
       "497            6.0                 3  \n",
       "498          -99.0                 2  \n",
       "499            7.0                 1  "
      ]
     },
     "execution_count": 318,
     "metadata": {},
     "output_type": "execute_result"
    }
   ],
   "source": [
    "df.tail(10)"
   ]
  },
  {
   "cell_type": "code",
   "execution_count": 319,
   "metadata": {
    "scrolled": true
   },
   "outputs": [
    {
     "data": {
      "text/plain": [
       " 0     263\n",
       " 1     219\n",
       "-99     11\n",
       " 11      7\n",
       "Name: geslacht, dtype: int64"
      ]
     },
     "execution_count": 319,
     "metadata": {},
     "output_type": "execute_result"
    }
   ],
   "source": [
    "df.geslacht.value_counts()"
   ]
  },
  {
   "cell_type": "code",
   "execution_count": 320,
   "metadata": {},
   "outputs": [
    {
     "data": {
      "text/plain": [
       " 1     305\n",
       " 0     165\n",
       "-99     13\n",
       " 10     10\n",
       " 11      7\n",
       "Name: chronisch_ziek, dtype: int64"
      ]
     },
     "execution_count": 320,
     "metadata": {},
     "output_type": "execute_result"
    }
   ],
   "source": [
    "df.chronisch_ziek.value_counts()"
   ]
  },
  {
   "cell_type": "code",
   "execution_count": 321,
   "metadata": {},
   "outputs": [
    {
     "data": {
      "text/plain": [
       "huisarts                130\n",
       "Huisarts                 93\n",
       "specialist               73\n",
       "praktijkondersteuner     57\n",
       "Specialist               53\n",
       "poh                      35\n",
       "Fysiotherapeut           17\n",
       "fysiotherapeut           13\n",
       "Fysio                     9\n",
       "poh GGZ                   9\n",
       "specialist azm            5\n",
       "SPECIALISTE               4\n",
       "HUisarts                  2\n",
       "Name: zorgverlener, dtype: int64"
      ]
     },
     "execution_count": 321,
     "metadata": {},
     "output_type": "execute_result"
    }
   ],
   "source": [
    "df.zorgverlener.value_counts()"
   ]
  },
  {
   "cell_type": "code",
   "execution_count": 322,
   "metadata": {},
   "outputs": [
    {
     "data": {
      "image/png": "[encoded data removed]",
      "text/plain": [
       "<matplotlib.figure.Figure at 0x2616ebd2898>"
      ]
     },
     "metadata": {},
     "output_type": "display_data"
    }
   ],
   "source": [
    "df.rapportcijfer.hist();"
   ]
  },
  {
   "cell_type": "code",
   "execution_count": 323,
   "metadata": {},
   "outputs": [
    {
     "data": {
      "image/png": "[encoded data removed]",
      "text/plain": [
       "<matplotlib.figure.Figure at 0x2616efe9d30>"
      ]
     },
     "metadata": {},
     "output_type": "display_data"
    }
   ],
   "source": [
    "df.rapportcijfer[df.rapportcijfer < 11].hist();"
   ]
  },
  {
   "cell_type": "code",
   "execution_count": 324,
   "metadata": {},
   "outputs": [
    {
     "data": {
      "text/plain": [
       "-0.6321000000000003"
      ]
     },
     "execution_count": 324,
     "metadata": {},
     "output_type": "execute_result"
    }
   ],
   "source": [
    "df.rapportcijfer.mean()"
   ]
  },
  {
   "cell_type": "code",
   "execution_count": 325,
   "metadata": {},
   "outputs": [
    {
     "data": {
      "text/plain": [
       " 3     208\n",
       " 1     130\n",
       " 2     120\n",
       "-99     29\n",
       " 4      12\n",
       " 13      1\n",
       "Name: opleidingsniveau, dtype: int64"
      ]
     },
     "execution_count": 325,
     "metadata": {},
     "output_type": "execute_result"
    }
   ],
   "source": [
    "df.opleidingsniveau.value_counts()"
   ]
  },
  {
   "cell_type": "code",
   "execution_count": 326,
   "metadata": {},
   "outputs": [],
   "source": [
    "df.iloc[:10, ].to_csv('2018-12-23_pat_tevr.csv', index=False)"
   ]
  },
  {
   "cell_type": "code",
   "execution_count": 327,
   "metadata": {},
   "outputs": [],
   "source": [
    "df.to_csv('2019-01-02_pat_tevr.csv', index=False)"
   ]
  },
  {
   "cell_type": "code",
   "execution_count": null,
   "metadata": {},
   "outputs": [],
   "source": []
  },
  {
   "cell_type": "code",
   "execution_count": null,
   "metadata": {},
   "outputs": [],
   "source": []
  }
 ],
 "metadata": {
  "kernelspec": {
   "display_name": "Python 3",
   "language": "python",
   "name": "python3"
  },
  "language_info": {
   "codemirror_mode": {
    "name": "ipython",
    "version": 3
   },
   "file_extension": ".py",
   "mimetype": "text/x-python",
   "name": "python",
   "nbconvert_exporter": "python",
   "pygments_lexer": "ipython3",
   "version": "3.6.3"
  },
  "toc": {
   "colors": {
    "hover_highlight": "#DAA520",
    "navigate_num": "#000000",
    "navigate_text": "#333333",
    "running_highlight": "#FF0000",
    "selected_highlight": "#FFD700",
    "sidebar_border": "#EEEEEE",
    "wrapper_background": "#FFFFFF"
   },
   "moveMenuLeft": true,
   "nav_menu": {
    "height": "47px",
    "width": "252px"
   },
   "navigate_menu": true,
   "number_sections": true,
   "sideBar": true,
   "threshold": 4,
   "toc_cell": false,
   "toc_section_display": "block",
   "toc_window_display": false,
   "widenNotebook": false
  }
 },
 "nbformat": 4,
 "nbformat_minor": 2
}
